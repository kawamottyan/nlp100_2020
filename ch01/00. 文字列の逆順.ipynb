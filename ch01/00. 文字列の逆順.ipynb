{
 "cells": [
  {
   "cell_type": "markdown",
   "id": "422fc2c6",
   "metadata": {},
   "source": [
    "### 00. 文字列の逆順\n",
    "文字列”stressed”の文字を逆に（末尾から先頭に向かって）並べた文字列を得よ．"
   ]
  },
  {
   "cell_type": "code",
   "execution_count": 1,
   "id": "c82b1be2",
   "metadata": {},
   "outputs": [
    {
     "ename": "SyntaxError",
     "evalue": "invalid syntax (477933069.py, line 8)",
     "output_type": "error",
     "traceback": [
      "\u001b[1;36m  File \u001b[1;32m\"C:\\Users\\kawam\\AppData\\Local\\Temp\\ipykernel_35612\\477933069.py\"\u001b[1;36m, line \u001b[1;32m8\u001b[0m\n\u001b[1;33m    def split(word)\u001b[0m\n\u001b[1;37m                   ^\u001b[0m\n\u001b[1;31mSyntaxError\u001b[0m\u001b[1;31m:\u001b[0m invalid syntax\n"
     ]
    }
   ],
   "source": [
    "#回答\n",
    "#wordの定義\n",
    "word = 'stressed'\n",
    "\n",
    "#wordを分割する\n",
    "word_list = []\n",
    "\n",
    "def split(word)\n",
    "    for i in word[i]\n",
    "    return word_list.append(i)\n",
    "\n",
    "split(word)\n",
    "\n",
    "\n",
    "#wordを逆さにする\n",
    "word_list_ud = []\n",
    "\n",
    "def upsidedown(word_list)\n",
    "    for i in word_list[i]\n",
    "    return  word_list_ud.appendend(i)\n",
    "\n",
    "upsidedown(word_list)"
   ]
  },
  {
   "cell_type": "code",
   "execution_count": 2,
   "id": "b285b27b",
   "metadata": {},
   "outputs": [
    {
     "data": {
      "text/plain": [
       "'desserts'"
      ]
     },
     "execution_count": 2,
     "metadata": {},
     "output_type": "execute_result"
    }
   ],
   "source": [
    "#答え\n",
    "str = 'stressed'\n",
    "ans = str[::-1]  \n",
    "ans"
   ]
  },
  {
   "cell_type": "markdown",
   "id": "790a442d",
   "metadata": {},
   "source": [
    "##### リストのsyntaxのまとめ\n",
    "\n",
    "a[start:stop]  # はじめから終わりを指定(0から始まる)\n",
    "\n",
    "a[start:]      # はじめを指定\n",
    "\n",
    "a[:stop]       # 終わりを指定\n",
    "\n",
    "a[:]           # すべて\n",
    "\n",
    "a[start:stop:step] # はじめと終わりをステップで進む\n",
    "\n",
    "---\n",
    "`:`は指定なしと考えれば、わかりやすい\n",
    "\n",
    "`-`は終わりから数える\n",
    "\n",
    "stepが`-`の時は右がスタートになるように作る\n",
    "\n",
    "---\n",
    "\n",
    "参考：https://stackoverflow.com/questions/509211/understanding-slicing\n",
    "      https://www.learnbyexample.org/python-list-slicing/"
   ]
  },
  {
   "cell_type": "code",
   "execution_count": 3,
   "id": "b3a3eca1",
   "metadata": {},
   "outputs": [
    {
     "data": {
      "text/plain": [
       "'d'"
      ]
     },
     "execution_count": 3,
     "metadata": {},
     "output_type": "execute_result"
    }
   ],
   "source": [
    "#s(0) t(1) r(2) e(3) s(4) s(5) e(6) d(7)\n",
    "#`a[-1]`は最後から1個目のアイテム\n",
    "a = str[-1]  \n",
    "a"
   ]
  },
  {
   "cell_type": "code",
   "execution_count": 5,
   "id": "a65c8d92",
   "metadata": {},
   "outputs": [
    {
     "data": {
      "text/plain": [
       "'dessert'"
      ]
     },
     "execution_count": 5,
     "metadata": {},
     "output_type": "execute_result"
    }
   ],
   "source": [
    "#s(0) t(1) r(2) e(3) s(4) s(5) e(6) d(7)\n",
    "#ステップをマイナスにするときは右からスタートするように\n",
    "b = str[8:0:-1] \n",
    "b \n",
    "#8個目から0の手前までを-1でステップ"
   ]
  },
  {
   "cell_type": "code",
   "execution_count": 6,
   "id": "149451bc",
   "metadata": {},
   "outputs": [
    {
     "data": {
      "text/plain": [
       "'ts'"
      ]
     },
     "execution_count": 6,
     "metadata": {},
     "output_type": "execute_result"
    }
   ],
   "source": [
    "#s(0) t(1) r(2) e(3) s(4) s(5) e(6) d(7)\n",
    "#1個目から最後のアイテムを-1で進む\n",
    "c = str[1::-1] \n",
    "c\n",
    "#ステップが-1なので、1個目から一番左まで"
   ]
  }
 ],
 "metadata": {
  "kernelspec": {
   "display_name": "Python 3 (ipykernel)",
   "language": "python",
   "name": "python3"
  },
  "language_info": {
   "codemirror_mode": {
    "name": "ipython",
    "version": 3
   },
   "file_extension": ".py",
   "mimetype": "text/x-python",
   "name": "python",
   "nbconvert_exporter": "python",
   "pygments_lexer": "ipython3",
   "version": "3.9.13"
  },
  "widgets": {
   "application/vnd.jupyter.widget-state+json": {
    "state": {},
    "version_major": 2,
    "version_minor": 0
   }
  }
 },
 "nbformat": 4,
 "nbformat_minor": 5
}
