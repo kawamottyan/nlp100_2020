{
 "cells": [
  {
   "cell_type": "markdown",
   "id": "1432efa9",
   "metadata": {},
   "source": [
    "### 02. 「パトカー」＋「タクシー」＝「パタトクカシーー」\n",
    "「パトカー」＋「タクシー」の文字を先頭から交互に連結して文字列「パタトクカシーー」を得よ．"
   ]
  },
  {
   "cell_type": "code",
   "execution_count": 7,
   "id": "1b83c2b6",
   "metadata": {},
   "outputs": [
    {
     "data": {
      "text/plain": [
       "'パタトクカシーー'"
      ]
     },
     "execution_count": 7,
     "metadata": {},
     "output_type": "execute_result"
    }
   ],
   "source": [
    "#回答\n",
    "pato = 'パトカー'\n",
    "taku = 'タクシー'\n",
    "\n",
    "pata = pato[0]+taku[0]+pato[1]+taku[1]+pato[2]+taku[2]+pato[3]+taku[3]\n",
    "pata"
   ]
  },
  {
   "cell_type": "code",
   "execution_count": 20,
   "id": "a0dbbc09",
   "metadata": {},
   "outputs": [
    {
     "data": {
      "text/plain": [
       "'パタトクカシーー'"
      ]
     },
     "execution_count": 20,
     "metadata": {},
     "output_type": "execute_result"
    }
   ],
   "source": [
    "#答え①\n",
    "pato = \"パトカー\"\n",
    "taku = \"タクシー\"\n",
    "\n",
    "ans1 = \"\"\n",
    "for i in range(len(pato)):\n",
    "    ans1 += pato[i] + taku[i]\n",
    "\n",
    "ans1"
   ]
  },
  {
   "cell_type": "markdown",
   "id": "513e2524",
   "metadata": {},
   "source": [
    "##### 累算代入演算子\n",
    "+=はa=a+bと同じ\n",
    "stringの足し算でansに加算されていく"
   ]
  },
  {
   "cell_type": "code",
   "execution_count": 27,
   "id": "e2d25f46",
   "metadata": {},
   "outputs": [
    {
     "data": {
      "text/plain": [
       "'ーー'"
      ]
     },
     "execution_count": 27,
     "metadata": {},
     "output_type": "execute_result"
    }
   ],
   "source": [
    "#ダメ①\n",
    "for i in range(len(pato)):\n",
    "    ans11=''.join(pato[i] + taku[i])\n",
    "\n",
    "ans11\n",
    "#これでは最後のforループしかans11に入っていない"
   ]
  },
  {
   "cell_type": "code",
   "execution_count": 31,
   "id": "882845f9",
   "metadata": {},
   "outputs": [
    {
     "data": {
      "text/plain": [
       "'パタトクカシーー'"
      ]
     },
     "execution_count": 31,
     "metadata": {},
     "output_type": "execute_result"
    }
   ],
   "source": [
    "#オッケー\n",
    "ans12 = ''.join(i + j for i, j in zip(pato, taku))\n",
    "ans12"
   ]
  },
  {
   "cell_type": "code",
   "execution_count": 19,
   "id": "8f9fd8b6",
   "metadata": {},
   "outputs": [
    {
     "data": {
      "text/plain": [
       "'パタトクカシーー'"
      ]
     },
     "execution_count": 19,
     "metadata": {},
     "output_type": "execute_result"
    }
   ],
   "source": [
    "#答え②\n",
    "pato = 'パトカー'\n",
    "taku = 'タクシー'\n",
    "ans2 = ''.join([i + j for i, j in zip(pato, taku)])  \n",
    "ans2"
   ]
  },
  {
   "cell_type": "markdown",
   "id": "9fbb6d96",
   "metadata": {},
   "source": [
    "##### ジェネレータ式\n",
    "参考：https://qiita.com/conf8o/items/d57f74b4bcb67882be37#%E3%82%B8%E3%82%A7%E3%83%8D%E3%83%AC%E3%83%BC%E3%82%BF%E5%BC%8F\n",
    "\n",
    "##### join関数\n",
    "文字列を連結・結合ができる  \n",
    "参考：https://note.nkmk.me/python-string-concat/\n",
    "\n",
    "##### forループで便利なzip関数\n",
    "参考：https://note.nkmk.me/python-zip-usage-for/"
   ]
  }
 ],
 "metadata": {
  "kernelspec": {
   "display_name": "Python 3 (ipykernel)",
   "language": "python",
   "name": "python3"
  },
  "language_info": {
   "codemirror_mode": {
    "name": "ipython",
    "version": 3
   },
   "file_extension": ".py",
   "mimetype": "text/x-python",
   "name": "python",
   "nbconvert_exporter": "python",
   "pygments_lexer": "ipython3",
   "version": "3.9.13"
  }
 },
 "nbformat": 4,
 "nbformat_minor": 5
}
