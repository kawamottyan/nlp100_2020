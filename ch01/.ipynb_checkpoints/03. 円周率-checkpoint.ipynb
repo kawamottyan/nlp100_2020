{
 "cells": [
  {
   "cell_type": "markdown",
   "id": "2af6e7b5",
   "metadata": {},
   "source": [
    "### 03. 円周率\n",
    "“Now I need a drink, alcoholic of course, after the heavy lectures involving quantum mechanics.”という文を単語に分解し，各単語の（アルファベットの）文字数を先頭から出現順に並べたリストを作成せよ．"
   ]
  },
  {
   "cell_type": "code",
   "execution_count": 3,
   "id": "41952357",
   "metadata": {},
   "outputs": [
    {
     "data": {
      "text/plain": [
       "['Now',\n",
       " 'I',\n",
       " 'need',\n",
       " 'a',\n",
       " 'drink,',\n",
       " 'alcoholic',\n",
       " 'of',\n",
       " 'course,',\n",
       " 'after',\n",
       " 'the',\n",
       " 'heavy',\n",
       " 'lectures',\n",
       " 'involving',\n",
       " 'quantum',\n",
       " 'mechanics.']"
      ]
     },
     "execution_count": 3,
     "metadata": {},
     "output_type": "execute_result"
    }
   ],
   "source": [
    "#回答\n",
    "eng = 'Now I need a drink, alcoholic of course, after the heavy lectures involving quantum mechanics.'\n",
    "eng_by_word = []\n",
    "eng_by_word = eng.split()\n",
    "eng_by_word"
   ]
  },
  {
   "cell_type": "code",
   "execution_count": 5,
   "id": "61d2adfe",
   "metadata": {},
   "outputs": [
    {
     "data": {
      "text/plain": [
       "[3, 1, 4, 1, 5, 9, 2, 6, 5, 3, 5, 8, 9, 7, 9]"
      ]
     },
     "execution_count": 5,
     "metadata": {},
     "output_type": "execute_result"
    }
   ],
   "source": [
    "#答え\n",
    "import re\n",
    "eng_ans = 'Now I need a drink, alcoholic of course, after the heavy lectures involving quantum mechanics.'\n",
    "eng_ans = re.sub('[,.]', '', eng_ans) \n",
    "splits = eng_ans.split()\n",
    "ans = [len(i) for i in splits]\n",
    "ans"
   ]
  },
  {
   "cell_type": "markdown",
   "id": "162d09ee",
   "metadata": {},
   "source": [
    "置換後 = re.sub(pattern, repl, string, count=0, flags=0)\n",
    "patternに[]で変換したい文字を入れます。"
   ]
  }
 ],
 "metadata": {
  "kernelspec": {
   "display_name": "Python 3 (ipykernel)",
   "language": "python",
   "name": "python3"
  },
  "language_info": {
   "codemirror_mode": {
    "name": "ipython",
    "version": 3
   },
   "file_extension": ".py",
   "mimetype": "text/x-python",
   "name": "python",
   "nbconvert_exporter": "python",
   "pygments_lexer": "ipython3",
   "version": "3.9.13"
  }
 },
 "nbformat": 4,
 "nbformat_minor": 5
}
