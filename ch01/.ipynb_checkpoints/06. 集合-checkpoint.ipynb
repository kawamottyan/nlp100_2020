{
 "cells": [
  {
   "cell_type": "markdown",
   "id": "80f399bb",
   "metadata": {},
   "source": [
    "### 06. 集合\n",
    "“paraparaparadise”と”paragraph”に含まれる文字bi-gramの集合を，それぞれ, XとYとして求め，XとYの和集合，積集合，差集合を求めよ．さらに，’se’というbi-gramがXおよびYに含まれるかどうかを調べよ．"
   ]
  },
  {
   "cell_type": "code",
   "execution_count": 1,
   "id": "9f750fa1",
   "metadata": {},
   "outputs": [],
   "source": [
    "#回答\n",
    "parap = 'paraparapradise'\n",
    "parag = 'paragraph'\n",
    "def bigram(str):\n",
    "    li = []\n",
    "    for i in range(2):\n",
    "        li.append(str[i:])    \n",
    "    return list(zip(*li))\n",
    "X = bigram(parap)\n",
    "Y = bigram(parag)"
   ]
  },
  {
   "cell_type": "code",
   "execution_count": 2,
   "id": "3c84303b",
   "metadata": {},
   "outputs": [
    {
     "data": {
      "text/plain": [
       "[('p', 'a'),\n",
       " ('a', 'r'),\n",
       " ('r', 'a'),\n",
       " ('r', 'a'),\n",
       " ('a', 'p'),\n",
       " ('p', 'a'),\n",
       " ('a', 'r'),\n",
       " ('r', 'a'),\n",
       " ('r', 'a'),\n",
       " ('a', 'p'),\n",
       " ('r', 'a'),\n",
       " ('r', 'a')]"
      ]
     },
     "execution_count": 2,
     "metadata": {},
     "output_type": "execute_result"
    }
   ],
   "source": [
    "#和集合\n",
    "WA = []\n",
    "for i in range(len(X)):\n",
    "    for j in range(len(Y)):\n",
    "        if X[i] == Y[j]:\n",
    "            WA.append(X[i])\n",
    "        else:\n",
    "            continue \n",
    "WA"
   ]
  },
  {
   "cell_type": "code",
   "execution_count": 10,
   "id": "c38b45df",
   "metadata": {},
   "outputs": [],
   "source": [
    "X.extend(Y)"
   ]
  },
  {
   "cell_type": "code",
   "execution_count": 4,
   "id": "8babf4a2",
   "metadata": {},
   "outputs": [
    {
     "data": {
      "text/plain": [
       "[('p', 'a'),\n",
       " ('p', 'a'),\n",
       " ('p', 'a'),\n",
       " ('p', 'a'),\n",
       " ('p', 'a'),\n",
       " ('p', 'a'),\n",
       " ('p', 'a'),\n",
       " ('a', 'r'),\n",
       " ('a', 'r'),\n",
       " ('a', 'r'),\n",
       " ('a', 'r'),\n",
       " ('a', 'r'),\n",
       " ('a', 'r'),\n",
       " ('a', 'r'),\n",
       " ('r', 'a'),\n",
       " ('r', 'a'),\n",
       " ('r', 'a'),\n",
       " ('r', 'a'),\n",
       " ('r', 'a'),\n",
       " ('r', 'a'),\n",
       " ('a', 'p'),\n",
       " ('a', 'p'),\n",
       " ('a', 'p'),\n",
       " ('a', 'p'),\n",
       " ('a', 'p'),\n",
       " ('a', 'p'),\n",
       " ('a', 'p'),\n",
       " ('p', 'a'),\n",
       " ('p', 'a'),\n",
       " ('p', 'a'),\n",
       " ('p', 'a'),\n",
       " ('p', 'a'),\n",
       " ('p', 'a'),\n",
       " ('p', 'a'),\n",
       " ('a', 'r'),\n",
       " ('a', 'r'),\n",
       " ('a', 'r'),\n",
       " ('a', 'r'),\n",
       " ('a', 'r'),\n",
       " ('a', 'r'),\n",
       " ('a', 'r'),\n",
       " ('r', 'a'),\n",
       " ('r', 'a'),\n",
       " ('r', 'a'),\n",
       " ('r', 'a'),\n",
       " ('r', 'a'),\n",
       " ('r', 'a'),\n",
       " ('a', 'p'),\n",
       " ('a', 'p'),\n",
       " ('a', 'p'),\n",
       " ('a', 'p'),\n",
       " ('a', 'p'),\n",
       " ('a', 'p'),\n",
       " ('a', 'p'),\n",
       " ('p', 'r'),\n",
       " ('p', 'r'),\n",
       " ('p', 'r'),\n",
       " ('p', 'r'),\n",
       " ('p', 'r'),\n",
       " ('p', 'r'),\n",
       " ('p', 'r'),\n",
       " ('p', 'r'),\n",
       " ('r', 'a'),\n",
       " ('r', 'a'),\n",
       " ('r', 'a'),\n",
       " ('r', 'a'),\n",
       " ('r', 'a'),\n",
       " ('r', 'a'),\n",
       " ('a', 'd'),\n",
       " ('a', 'd'),\n",
       " ('a', 'd'),\n",
       " ('a', 'd'),\n",
       " ('a', 'd'),\n",
       " ('a', 'd'),\n",
       " ('a', 'd'),\n",
       " ('a', 'd'),\n",
       " ('d', 'i'),\n",
       " ('d', 'i'),\n",
       " ('d', 'i'),\n",
       " ('d', 'i'),\n",
       " ('d', 'i'),\n",
       " ('d', 'i'),\n",
       " ('d', 'i'),\n",
       " ('d', 'i'),\n",
       " ('i', 's'),\n",
       " ('i', 's'),\n",
       " ('i', 's'),\n",
       " ('i', 's'),\n",
       " ('i', 's'),\n",
       " ('i', 's'),\n",
       " ('i', 's'),\n",
       " ('i', 's'),\n",
       " ('s', 'e'),\n",
       " ('s', 'e'),\n",
       " ('s', 'e'),\n",
       " ('s', 'e'),\n",
       " ('s', 'e'),\n",
       " ('s', 'e'),\n",
       " ('s', 'e'),\n",
       " ('s', 'e')]"
      ]
     },
     "execution_count": 4,
     "metadata": {},
     "output_type": "execute_result"
    }
   ],
   "source": [
    "#差集合\n",
    "\n",
    "SA = []\n",
    "for i in range(len(X)):\n",
    "    for j in range(len(Y)):\n",
    "        if X[i] != Y[j]:\n",
    "            SA.append(X[i])\n",
    "        else:\n",
    "            continue "
   ]
  }
 ],
 "metadata": {
  "kernelspec": {
   "display_name": "Python 3 (ipykernel)",
   "language": "python",
   "name": "python3"
  },
  "language_info": {
   "codemirror_mode": {
    "name": "ipython",
    "version": 3
   },
   "file_extension": ".py",
   "mimetype": "text/x-python",
   "name": "python",
   "nbconvert_exporter": "python",
   "pygments_lexer": "ipython3",
   "version": "3.9.13"
  }
 },
 "nbformat": 4,
 "nbformat_minor": 5
}
