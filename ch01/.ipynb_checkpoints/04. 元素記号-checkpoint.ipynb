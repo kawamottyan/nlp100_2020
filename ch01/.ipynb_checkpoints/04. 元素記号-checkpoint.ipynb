{
 "cells": [
  {
   "cell_type": "markdown",
   "id": "a23c08fb",
   "metadata": {
    "tags": []
   },
   "source": [
    "### 04. 元素記号\n",
    "“Hi He Lied Because Boron Could Not Oxidize Fluorine. New Nations Might Also Sign Peace Security Clause. Arthur King Can.”という文を単語に分解し，1, 5, 6, 7, 8, 9, 15, 16, 19番目の単語は先頭の1文字，それ以外の単語は先頭の2文字を取り出し，取り出した文字列から単語の位置（先頭から何番目の単語か）への連想配列（辞書型もしくはマップ型）を作成せよ．"
   ]
  },
  {
   "cell_type": "code",
   "execution_count": 6,
   "id": "8dd4e1be",
   "metadata": {},
   "outputs": [],
   "source": [
    "str = 'Hi He Lied Because Boron Could Not Oxidize Fluorine. New Nations Might Also Sign Peace Security Clause. Arthur King Can.'"
   ]
  },
  {
   "cell_type": "code",
   "execution_count": 26,
   "id": "5e00d578",
   "metadata": {},
   "outputs": [
    {
     "name": "stdout",
     "output_type": "stream",
     "text": [
      "Hi He Lied Because Boron Could Not Oxidize Fluorine New Nations Might Also Sign Peace Security Clause Arthur King Can\n"
     ]
    },
    {
     "data": {
      "text/plain": [
       "['Hi',\n",
       " 'He',\n",
       " 'Lied',\n",
       " 'Because',\n",
       " 'Boron',\n",
       " 'Could',\n",
       " 'Not',\n",
       " 'Oxidize',\n",
       " 'Fluorine',\n",
       " 'New',\n",
       " 'Nations',\n",
       " 'Might',\n",
       " 'Also',\n",
       " 'Sign',\n",
       " 'Peace',\n",
       " 'Security',\n",
       " 'Clause',\n",
       " 'Arthur',\n",
       " 'King',\n",
       " 'Can']"
      ]
     },
     "execution_count": 26,
     "metadata": {},
     "output_type": "execute_result"
    }
   ],
   "source": [
    "#回答\n",
    "import re\n",
    "str_stopped = re.sub(r\"[,.]\",'',str)\n",
    "str_splited = str_stopped.split()\n",
    "str_splited"
   ]
  },
  {
   "cell_type": "markdown",
   "id": "1dd4c5da",
   "metadata": {},
   "source": [
    "https://qiita.com/kenTee/items/dcf63aa2895122bb3fd1\n",
    "https://note.nkmk.me/python-dict-add-update/"
   ]
  },
  {
   "cell_type": "code",
   "execution_count": 32,
   "id": "d4ae9bb3",
   "metadata": {
    "scrolled": true
   },
   "outputs": [
    {
     "data": {
      "text/plain": [
       "{'H': 1,\n",
       " 'He': 2,\n",
       " 'Li': 3,\n",
       " 'Be': 4,\n",
       " 'B': 5,\n",
       " 'C': 6,\n",
       " 'N': 7,\n",
       " 'O': 8,\n",
       " 'F': 9,\n",
       " 'Ne': 10,\n",
       " 'Na': 11,\n",
       " 'Mi': 12,\n",
       " 'Al': 13,\n",
       " 'Si': 14,\n",
       " 'P': 15,\n",
       " 'S': 16,\n",
       " 'Cl': 17,\n",
       " 'Ar': 18,\n",
       " 'K': 19,\n",
       " 'Ca': 20}"
      ]
     },
     "execution_count": 32,
     "metadata": {},
     "output_type": "execute_result"
    }
   ],
   "source": [
    "#答え\n",
    "str = 'Hi He Lied Because Boron Could Not Oxidize Fluorine. New Nations Might Also Sign Peace Security Clause. Arthur King Can.'\n",
    "splits = str.split()\n",
    "one_ch = [1, 5, 6, 7, 8, 9, 15, 16, 19]  # 1文字を取り出す単語の番号リスト\n",
    "ans = {}\n",
    "for i, word in enumerate(splits):\n",
    "  if i + 1 in one_ch:\n",
    "    ans[word[:1]] = i + 1  # リストにあれば1文字を取得\n",
    "  else:\n",
    "    ans[word[:2]] = i + 1  # なければ2文字を取得\n",
    "ans"
   ]
  },
  {
   "cell_type": "markdown",
   "id": "6f25d03a",
   "metadata": {},
   "source": [
    "enumerate:for文内のループ処理にインデックス番号を付与できる\n",
    "https://camp.trainocate.co.jp/magazine/python-enumerate/\n",
    "辞書オブジェクト[キー] = 値で存在しないキーを指定すると新たな要素を追加\n",
    "https://note.nkmk.me/python-dict-add-update/"
   ]
  }
 ],
 "metadata": {
  "kernelspec": {
   "display_name": "Python 3 (ipykernel)",
   "language": "python",
   "name": "python3"
  },
  "language_info": {
   "codemirror_mode": {
    "name": "ipython",
    "version": 3
   },
   "file_extension": ".py",
   "mimetype": "text/x-python",
   "name": "python",
   "nbconvert_exporter": "python",
   "pygments_lexer": "ipython3",
   "version": "3.9.13"
  }
 },
 "nbformat": 4,
 "nbformat_minor": 5
}
