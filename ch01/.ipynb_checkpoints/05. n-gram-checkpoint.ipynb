{
 "cells": [
  {
   "cell_type": "markdown",
   "id": "fd9a0eec",
   "metadata": {},
   "source": [
    "### 05. n-gram\n",
    "与えられたシーケンス（文字列やリストなど）からn-gramを作る関数を作成せよ．この関数を用い，”I am an NLPer”という文から単語bi-gram，文字bi-gramを得よ．"
   ]
  },
  {
   "cell_type": "code",
   "execution_count": 3,
   "id": "40ada9fe",
   "metadata": {},
   "outputs": [],
   "source": [
    "str = 'I am an NLPer'"
   ]
  },
  {
   "cell_type": "markdown",
   "id": "bac4cf92",
   "metadata": {},
   "source": [
    "### N-gramとは\n",
    "N-gramとは任意の文字数で文章を分割する手法のことです。  \n",
    "任意の文字数は連続するn個の単語や文字のまとまりを表し、N-gramではnが1の場合、uni-gram（ユニグラム）と呼び、2の場合をbi-gram（バイグラム）、3の場合をtri-gram（トライグラム）と呼びます。  \n",
    "https://aiacademy.jp/media/?p=3030"
   ]
  },
  {
   "cell_type": "code",
   "execution_count": 10,
   "id": "e418c0ad",
   "metadata": {},
   "outputs": [
    {
     "ename": "SyntaxError",
     "evalue": "invalid syntax (2778853891.py, line 3)",
     "output_type": "error",
     "traceback": [
      "\u001b[1;36m  File \u001b[1;32m\"C:\\Users\\kawam\\AppData\\Local\\Temp\\ipykernel_25400\\2778853891.py\"\u001b[1;36m, line \u001b[1;32m3\u001b[0m\n\u001b[1;33m    for i in len(words)\u001b[0m\n\u001b[1;37m                       ^\u001b[0m\n\u001b[1;31mSyntaxError\u001b[0m\u001b[1;31m:\u001b[0m invalid syntax\n"
     ]
    }
   ],
   "source": [
    "#回答\n",
    "def ngram(words):\n",
    "    for i in len(words)"
   ]
  },
  {
   "cell_type": "code",
   "execution_count": 17,
   "id": "b1c07c48",
   "metadata": {},
   "outputs": [
    {
     "name": "stdout",
     "output_type": "stream",
     "text": [
      "単語bi-gram: [('I', 'am'), ('am', 'an'), ('an', 'NLPer')]\n",
      "文字bi-gram: [('I', ' '), (' ', 'a'), ('a', 'm'), ('m', ' '), (' ', 'a'), ('a', 'n'), ('n', ' '), (' ', 'N'), ('N', 'L'), ('L', 'P'), ('P', 'e'), ('e', 'r')]\n"
     ]
    }
   ],
   "source": [
    "#答え①\n",
    "def ngram(n, lst):\n",
    "  # ex.\n",
    "  # [str[i:] for i in range(2)] -> ['I am an NLPer', ' am an NLPer']\n",
    "  # zip(*[str[i:] for i in range(2)]) -> zip('I am an NLPer', ' am an NLPer')\n",
    "  return list(zip(*[lst[i:] for i in range(n)]))\n",
    "\n",
    "str = 'I am an NLPer'\n",
    "words_bi_gram = ngram(2, str.split())\n",
    "chars_bi_gram = ngram(2, str)\n",
    "\n",
    "print('単語bi-gram:', words_bi_gram)\n",
    "print('文字bi-gram:', chars_bi_gram)"
   ]
  },
  {
   "cell_type": "markdown",
   "id": "a933fb3f",
   "metadata": {},
   "source": [
    "```\n",
    "for 0 in range(2)  \n",
    "   return lst[0:] # 0個目から全部  \n",
    "for 1 in range(2)  \n",
    "   return lst[1:] # 1個目から全部\n",
    "```\n",
    "```\n",
    "str[0:]  \n",
    "//'I am an NLPer'  \n",
    "str[2:]  \n",
    "//'am an NLPer'\n",
    "```\n",
    "\n",
    "```\n",
    "list(zip(*str[0:]))\n",
    "//[('I', ' ', 'a', 'm', ' ', 'a', 'n', ' ', 'N', 'L', 'P', 'e', 'r')]\n",
    "list(zip(*str[2:]))\n",
    "//[('a', 'm', ' ', 'a', 'n', ' ', 'N', 'L', 'P', 'e', 'r')]\n",
    "list(zip(str[2:]))\n",
    "//[('a',),\n",
    " ('m',),\n",
    " (' ',),\n",
    " ('a',),\n",
    " ('n',),\n",
    " (' ',),\n",
    " ('N',),\n",
    " ('L',),\n",
    " ('P',),\n",
    " ('e',),\n",
    " ('r',)]\n",
    "```\n",
    "\n",
    "```\n",
    "list(zip([str[i:] for i in range(2)]))\n",
    "//[('I am an NLPer',), (' am an NLPer',)]\n",
    "```\n",
    "\n",
    "```\n",
    "str.split()\n",
    "//['I', 'am', 'an', 'NLPer']\n",
    "list(zip(*str.split()[2:]))\n",
    "//[('a', 'N'), ('n', 'L')]\n",
    "```\n",
    "\n",
    "```\n",
    "[str[i:] for i in range(2)]\n",
    "//['I am an NLPer', ' am an NLPer']\n",
    "```\n",
    "\n",
    "`*`でリストを展開し、それぞれの要素列に分ける  \n",
    "`zip関数`はリストの要素を取得するが多い分の要素が無視される"
   ]
  },
  {
   "cell_type": "code",
   "execution_count": 34,
   "id": "9391a7e6",
   "metadata": {},
   "outputs": [
    {
     "data": {
      "text/plain": [
       "[('a',),\n",
       " ('m',),\n",
       " (' ',),\n",
       " ('a',),\n",
       " ('n',),\n",
       " (' ',),\n",
       " ('N',),\n",
       " ('L',),\n",
       " ('P',),\n",
       " ('e',),\n",
       " ('r',)]"
      ]
     },
     "execution_count": 34,
     "metadata": {},
     "output_type": "execute_result"
    }
   ],
   "source": [
    "str = 'I am an NLPer'\n",
    "list(zip(str[2:]))"
   ]
  },
  {
   "cell_type": "code",
   "execution_count": 12,
   "id": "9b6a884f",
   "metadata": {
    "collapsed": true
   },
   "outputs": [
    {
     "name": "stdout",
     "output_type": "stream",
     "text": [
      "['I', ' ', 'a', 'm', ' ', 'a', 'n', ' ', 'N', 'L', 'P', 'e', 'r']\n",
      "[['I'], ['am'], ['an'], ['NLPer']]\n",
      "['I ', ' a', 'am', 'm ', ' a', 'an', 'n ', ' N', 'NL', 'LP', 'Pe', 'er']\n",
      "[['I', 'am'], ['am', 'an'], ['an', 'NLPer']]\n",
      "['I a', ' am', 'am ', 'm a', ' an', 'an ', 'n N', ' NL', 'NLP', 'LPe', 'Per']\n",
      "[['I', 'am', 'an'], ['am', 'an', 'NLPer']]\n"
     ]
    }
   ],
   "source": [
    "#答え②\n",
    "def n_gram(target, n):\n",
    "    return [target[idx:idx + n] for idx in range(len(target) - n + 1)]\n",
    "\n",
    "text = 'I am an NLPer'\n",
    "for i in range(1, 4):\n",
    "    print(n_gram(text, i))#空白を含めた文字\n",
    "    print(n_gram(text.split(' '), i))#単語"
   ]
  },
  {
   "cell_type": "code",
   "execution_count": 21,
   "id": "70efec24",
   "metadata": {
    "collapsed": true
   },
   "outputs": [
    {
     "name": "stdout",
     "output_type": "stream",
     "text": [
      "['I', ' ', 'a', 'm', ' ', 'a', 'n', ' ', 'N', 'L', 'P', 'e', 'r']\n",
      "[['I'], ['am'], ['an'], ['NLPer']]\n",
      "['I ', ' a', 'am', 'm ', ' a', 'an', 'n ', ' N', 'NL', 'LP', 'Pe', 'er']\n",
      "[['I', 'am'], ['am', 'an'], ['an', 'NLPer']]\n",
      "['I a', ' am', 'am ', 'm a', ' an', 'an ', 'n N', ' NL', 'NLP', 'LPe', 'Per']\n",
      "[['I', 'am', 'an'], ['am', 'an', 'NLPer']]\n"
     ]
    }
   ],
   "source": [
    "#答え③\n",
    "def n_gram(target, n):\n",
    "    return [target[idx:idx + n] for idx in range(len(target) - n + 1)]\n",
    "\n",
    "\n",
    "text = 'I am an NLPer'\n",
    "for i in range(1, 4):\n",
    "    print(n_gram(text, i))\n",
    "    print(n_gram(text.split(' '), i))"
   ]
  },
  {
   "cell_type": "code",
   "execution_count": 2,
   "id": "8cf7e59c",
   "metadata": {},
   "outputs": [],
   "source": [
    "str = 'I am an NLPer'\n",
    "for i in range(2):\n",
    "     list(zip(*str.split()[i:]))"
   ]
  },
  {
   "cell_type": "code",
   "execution_count": 9,
   "id": "c43089ee",
   "metadata": {},
   "outputs": [
    {
     "data": {
      "text/plain": [
       "[('I', ' '),\n",
       " (' ', 'a'),\n",
       " ('a', 'm'),\n",
       " ('m', ' '),\n",
       " (' ', 'a'),\n",
       " ('a', 'n'),\n",
       " ('n', ' '),\n",
       " (' ', 'N'),\n",
       " ('N', 'L'),\n",
       " ('L', 'P'),\n",
       " ('P', 'e'),\n",
       " ('e', 'r')]"
      ]
     },
     "execution_count": 9,
     "metadata": {},
     "output_type": "execute_result"
    }
   ],
   "source": [
    "str = 'I am an NLPer'\n",
    "list(zip(*[str[i:] for i in range(2)]))"
   ]
  },
  {
   "cell_type": "markdown",
   "id": "4decfb48",
   "metadata": {},
   "source": [
    "```\n",
    "[str[i:] for i in range(2)] -> ['I am an NLPer', ' am an NLPer']\n",
    "zip(*[str[i:] for i in range(2)]) -> zip('I am an NLPer', ' am an NLPer')\n",
    "list(zip(*[str[i:] for i in range(2)]))\n",
    "-> [('I', ' '),\n",
    " (' ', 'a'),\n",
    " ('a', 'm'),\n",
    " ('m', ' '),\n",
    " (' ', 'a'),\n",
    " ('a', 'n'),\n",
    " ('n', ' '),\n",
    " (' ', 'N'),\n",
    " ('N', 'L'),\n",
    " ('L', 'P'),\n",
    " ('P', 'e'),\n",
    " ('e', 'r')]\n",
    "```\n",
    "https://hibiki-press.tech/python/zip-iterable/3834\n",
    "\n",
    "\n",
    "タプル型への転置は list(zip(*L))  \n",
    "https://jackee777.hatenablog.com/entry/2019/05/03/223646  \n",
    "https://stackoverflow.com/questions/29139350/difference-between-ziplist-and-ziplist"
   ]
  },
  {
   "cell_type": "code",
   "execution_count": 1,
   "id": "71d60b8d",
   "metadata": {},
   "outputs": [
    {
     "name": "stdout",
     "output_type": "stream",
     "text": [
      "単語bi-gram: [('I', 'am'), ('am', 'an'), ('an', 'NLPer')]\n",
      "文字bi-gram: [('I', ' '), (' ', 'a'), ('a', 'm'), ('m', ' '), (' ', 'a'), ('a', 'n'), ('n', ' '), (' ', 'N'), ('N', 'L'), ('L', 'P'), ('P', 'e'), ('e', 'r')]\n"
     ]
    }
   ],
   "source": [
    "def ngram(n, lst):\n",
    "  # ex.\n",
    "  # [str[i:] for i in range(2)] -> ['I am an NLPer', ' am an NLPer']\n",
    "  # zip(*[str[i:] for i in range(2)]) -> zip('I am an NLPer', ' am an NLPer')\n",
    "  return list(zip(*[lst[i:] for i in range(n)]))\n",
    "\n",
    "str = 'I am an NLPer'\n",
    "words_bi_gram = ngram(2, str.split())\n",
    "chars_bi_gram = ngram(2, str)\n",
    "\n",
    "print('単語bi-gram:', words_bi_gram)\n",
    "print('文字bi-gram:', chars_bi_gram)"
   ]
  },
  {
   "cell_type": "code",
   "execution_count": 27,
   "id": "293198e8",
   "metadata": {},
   "outputs": [
    {
     "data": {
      "text/plain": [
       "[('I', ' ', 'a', 'm', ' ', 'a', 'n', ' ', 'N', 'L', 'P', 'e', 'r')]"
      ]
     },
     "execution_count": 27,
     "metadata": {},
     "output_type": "execute_result"
    }
   ],
   "source": [
    "#return list(zip(*[lst[i:] for i in range(n)]))\n",
    "str = 'I am an NLPer'\n",
    "\n",
    "def ngram(n):\n",
    "    for i in range(n):\n",
    "        return  list(zip(*str[i:]))\n",
    "ngram(2)"
   ]
  },
  {
   "cell_type": "code",
   "execution_count": 1,
   "id": "08e4fe30",
   "metadata": {
    "scrolled": true
   },
   "outputs": [
    {
     "data": {
      "text/plain": [
       "[('I', ' '),\n",
       " (' ', 'a'),\n",
       " ('a', 'm'),\n",
       " ('m', ' '),\n",
       " (' ', 'a'),\n",
       " ('a', 'n'),\n",
       " ('n', ' '),\n",
       " (' ', 'N'),\n",
       " ('N', 'L'),\n",
       " ('L', 'P'),\n",
       " ('P', 'e'),\n",
       " ('e', 'r')]"
      ]
     },
     "execution_count": 1,
     "metadata": {},
     "output_type": "execute_result"
    }
   ],
   "source": [
    "str = 'I am an NLPer'\n",
    "list(zip(*[str[i:] for i in range(2)]))"
   ]
  },
  {
   "cell_type": "code",
   "execution_count": 2,
   "id": "b7179a9b",
   "metadata": {},
   "outputs": [
    {
     "data": {
      "text/plain": [
       "[('I', ' ', 'a', 'm', ' ', 'a', 'n', ' ', 'N', 'L', 'P', 'e', 'r')]"
      ]
     },
     "execution_count": 2,
     "metadata": {},
     "output_type": "execute_result"
    }
   ],
   "source": [
    "str = 'I am an NLPer'\n",
    "def ngram(n):\n",
    "    for i in range(n):\n",
    "        return  list(zip(*str[i:]))\n",
    "ngram(2)"
   ]
  },
  {
   "cell_type": "code",
   "execution_count": 47,
   "id": "ff7a61c6",
   "metadata": {},
   "outputs": [
    {
     "data": {
      "text/plain": [
       "[('I am an NLPer',), (' am an NLPer',)]"
      ]
     },
     "execution_count": 47,
     "metadata": {},
     "output_type": "execute_result"
    }
   ],
   "source": [
    "str1 = 'I am an NLPer'\n",
    "list(zip([str1[i:] for i in range(2)]))"
   ]
  },
  {
   "cell_type": "code",
   "execution_count": 48,
   "id": "8977f3cd",
   "metadata": {},
   "outputs": [
    {
     "data": {
      "text/plain": [
       "[('I',),\n",
       " (' ',),\n",
       " ('a',),\n",
       " ('m',),\n",
       " (' ',),\n",
       " ('a',),\n",
       " ('n',),\n",
       " (' ',),\n",
       " ('N',),\n",
       " ('L',),\n",
       " ('P',),\n",
       " ('e',),\n",
       " ('r',)]"
      ]
     },
     "execution_count": 48,
     "metadata": {},
     "output_type": "execute_result"
    }
   ],
   "source": [
    "str2 = 'I am an NLPer'\n",
    "def ngram(n):\n",
    "    for i in range(n):\n",
    "        return list(zip(str2[i:]))\n",
    "ngram(2)"
   ]
  }
 ],
 "metadata": {
  "kernelspec": {
   "display_name": "Python 3 (ipykernel)",
   "language": "python",
   "name": "python3"
  },
  "language_info": {
   "codemirror_mode": {
    "name": "ipython",
    "version": 3
   },
   "file_extension": ".py",
   "mimetype": "text/x-python",
   "name": "python",
   "nbconvert_exporter": "python",
   "pygments_lexer": "ipython3",
   "version": "3.9.13"
  }
 },
 "nbformat": 4,
 "nbformat_minor": 5
}
