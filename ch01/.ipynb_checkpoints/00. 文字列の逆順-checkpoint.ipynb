{
 "cells": [
  {
   "cell_type": "markdown",
   "id": "422fc2c6",
   "metadata": {},
   "source": [
    "### 00. 文字列の逆順\n",
    "文字列”stressed”の文字を逆に（末尾から先頭に向かって）並べた文字列を得よ．"
   ]
  },
  {
   "cell_type": "code",
   "execution_count": 1,
   "id": "c82b1be2",
   "metadata": {
    "collapsed": true
   },
   "outputs": [
    {
     "ename": "SyntaxError",
     "evalue": "invalid syntax (477933069.py, line 8)",
     "output_type": "error",
     "traceback": [
      "\u001b[1;36m  File \u001b[1;32m\"C:\\Users\\kawam\\AppData\\Local\\Temp\\ipykernel_30096\\477933069.py\"\u001b[1;36m, line \u001b[1;32m8\u001b[0m\n\u001b[1;33m    def split(word)\u001b[0m\n\u001b[1;37m                   ^\u001b[0m\n\u001b[1;31mSyntaxError\u001b[0m\u001b[1;31m:\u001b[0m invalid syntax\n"
     ]
    }
   ],
   "source": [
    "#回答\n",
    "#wordの定義\n",
    "word = 'stressed'\n",
    "\n",
    "#wordを分割する\n",
    "word_list = []\n",
    "\n",
    "def split(word)\n",
    "    for i in word[i]\n",
    "    return word_list.append(i)\n",
    "\n",
    "split(word)\n",
    "\n",
    "\n",
    "#wordを逆さにする\n",
    "word_list_ud = []\n",
    "\n",
    "def upsidedown(word_list)\n",
    "    for i in word_list[i]\n",
    "    return  word_list_ud.appendend(i)\n",
    "\n",
    "upsidedown(word_list)"
   ]
  },
  {
   "cell_type": "code",
   "execution_count": 1,
   "id": "b285b27b",
   "metadata": {},
   "outputs": [
    {
     "data": {
      "text/plain": [
       "'desserts'"
      ]
     },
     "execution_count": 1,
     "metadata": {},
     "output_type": "execute_result"
    }
   ],
   "source": [
    "#答え\n",
    "str = 'stressed'\n",
    "ans = str[::-1]  \n",
    "ans"
   ]
  },
  {
   "cell_type": "markdown",
   "id": "ee595317",
   "metadata": {},
   "source": [
    "リストのsyntaxのまとめ\n",
    "https://stackoverflow.com/questions/509211/understanding-slicing"
   ]
  },
  {
   "cell_type": "code",
   "execution_count": 2,
   "id": "33c16f0c",
   "metadata": {},
   "outputs": [
    {
     "data": {
      "text/plain": [
       "'d'"
      ]
     },
     "execution_count": 2,
     "metadata": {},
     "output_type": "execute_result"
    }
   ],
   "source": [
    "#`a[-1]`は最後から1個目のアイテム\n",
    "str = 'stressed'\n",
    "a = str[-1]  \n",
    "a"
   ]
  },
  {
   "cell_type": "code",
   "execution_count": 3,
   "id": "cb04c76e",
   "metadata": {},
   "outputs": [
    {
     "data": {
      "text/plain": [
       "'stressed'"
      ]
     },
     "execution_count": 3,
     "metadata": {},
     "output_type": "execute_result"
    }
   ],
   "source": [
    "#`:`はすべてのアイテム\n",
    "str = 'stressed'\n",
    "a = str[:]  \n",
    "a"
   ]
  },
  {
   "cell_type": "code",
   "execution_count": 8,
   "id": "15a10b52",
   "metadata": {},
   "outputs": [
    {
     "ename": "SyntaxError",
     "evalue": "cannot assign to operator (152362317.py, line 3)",
     "output_type": "error",
     "traceback": [
      "\u001b[1;36m  File \u001b[1;32m\"C:\\Users\\kawam\\AppData\\Local\\Temp\\ipykernel_17536\\152362317.py\"\u001b[1;36m, line \u001b[1;32m3\u001b[0m\n\u001b[1;33m    -a = str[-2:]\u001b[0m\n\u001b[1;37m    ^\u001b[0m\n\u001b[1;31mSyntaxError\u001b[0m\u001b[1;31m:\u001b[0m cannot assign to operator\n"
     ]
    }
   ],
   "source": [
    "#`-2:`は後ろから2つのアイテム\n",
    "str = 'stressed'\n",
    "a = str[-2:]  \n",
    "#`:-2`は後ろから2つを除くアイテム\n",
    "str = 'stressed'\n",
    "b = str[:-2]  \n",
    "print('a',a,\":b\",b)"
   ]
  }
 ],
 "metadata": {
  "kernelspec": {
   "display_name": "Python 3 (ipykernel)",
   "language": "python",
   "name": "python3"
  },
  "language_info": {
   "codemirror_mode": {
    "name": "ipython",
    "version": 3
   },
   "file_extension": ".py",
   "mimetype": "text/x-python",
   "name": "python",
   "nbconvert_exporter": "python",
   "pygments_lexer": "ipython3",
   "version": "3.9.13"
  },
  "widgets": {
   "application/vnd.jupyter.widget-state+json": {
    "state": {},
    "version_major": 2,
    "version_minor": 0
   }
  }
 },
 "nbformat": 4,
 "nbformat_minor": 5
}
