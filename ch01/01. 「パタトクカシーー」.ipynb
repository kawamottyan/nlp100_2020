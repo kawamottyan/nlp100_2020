{
 "cells": [
  {
   "cell_type": "markdown",
   "id": "1e418cfe",
   "metadata": {},
   "source": [
    "### 01. 「パタトクカシーー」\n",
    "「パタトクカシーー」という文字列の1,3,5,7文字目を取り出して連結した文字列を得よ．"
   ]
  },
  {
   "cell_type": "code",
   "execution_count": 6,
   "id": "4768d0d4",
   "metadata": {},
   "outputs": [
    {
     "data": {
      "text/plain": [
       "'パトカー'"
      ]
     },
     "execution_count": 6,
     "metadata": {},
     "output_type": "execute_result"
    }
   ],
   "source": [
    "#回答　&　正解\n",
    "pata = 'パタトクカシーー'\n",
    "\n",
    "pata[::2]"
   ]
  },
  {
   "cell_type": "markdown",
   "id": "33c7c0b6",
   "metadata": {},
   "source": [
    "Pythonの型まとめ\n",
    "\n",
    "```\n",
    "str = 'パトカー' -> 文字列  \n",
    "int = 0123 -> 整数  \n",
    "list = ['パトカー',0123]  \n",
    "    .append\n",
    "    .remove\n",
    "    .range([start, end , step)\n",
    "tuple = ('パトカー',0123)  \n",
    "dict = {'車種（Key1）' : 'パトカー（Val1）', 'ナンバー（Key2）' : '0123（Val2）'}\n",
    "```"
   ]
  }
 ],
 "metadata": {
  "kernelspec": {
   "display_name": "Python 3 (ipykernel)",
   "language": "python",
   "name": "python3"
  },
  "language_info": {
   "codemirror_mode": {
    "name": "ipython",
    "version": 3
   },
   "file_extension": ".py",
   "mimetype": "text/x-python",
   "name": "python",
   "nbconvert_exporter": "python",
   "pygments_lexer": "ipython3",
   "version": "3.9.13"
  }
 },
 "nbformat": 4,
 "nbformat_minor": 5
}
