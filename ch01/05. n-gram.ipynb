{
 "cells": [
  {
   "cell_type": "markdown",
   "id": "fd9a0eec",
   "metadata": {},
   "source": [
    "### 05. n-gram\n",
    "与えられたシーケンス（文字列やリストなど）からn-gramを作る関数を作成せよ．この関数を用い，”I am an NLPer”という文から単語bi-gram，文字bi-gramを得よ．"
   ]
  },
  {
   "cell_type": "code",
   "execution_count": 1,
   "id": "49f3f28d",
   "metadata": {},
   "outputs": [],
   "source": [
    "str = 'I am an NLPer'"
   ]
  },
  {
   "cell_type": "markdown",
   "id": "03b904b6",
   "metadata": {},
   "source": [
    "### N-gramとは\n",
    "N-gramとは任意の文字数で文章を分割する手法のことです。  \n",
    "任意の文字数は連続するn個の単語や文字のまとまりを表し、N-gramではnが1の場合、uni-gram（ユニグラム）と呼び、2の場合をbi-gram（バイグラム）、3の場合をtri-gram（トライグラム）と呼びます。  \n",
    "https://aiacademy.jp/media/?p=3030"
   ]
  },
  {
   "cell_type": "code",
   "execution_count": 2,
   "id": "945b33c2",
   "metadata": {},
   "outputs": [
    {
     "ename": "SyntaxError",
     "evalue": "invalid syntax (2778853891.py, line 3)",
     "output_type": "error",
     "traceback": [
      "\u001b[1;36m  File \u001b[1;32m\"C:\\Users\\kawam\\AppData\\Local\\Temp\\ipykernel_30288\\2778853891.py\"\u001b[1;36m, line \u001b[1;32m3\u001b[0m\n\u001b[1;33m    for i in len(words)\u001b[0m\n\u001b[1;37m                       ^\u001b[0m\n\u001b[1;31mSyntaxError\u001b[0m\u001b[1;31m:\u001b[0m invalid syntax\n"
     ]
    }
   ],
   "source": [
    "#回答\n",
    "def n_gram(words):\n",
    "    for i in len(words)"
   ]
  },
  {
   "cell_type": "code",
   "execution_count": 2,
   "id": "b8ae991e",
   "metadata": {},
   "outputs": [
    {
     "name": "stdout",
     "output_type": "stream",
     "text": [
      "単語bi-gram: [('I', 'am'), ('am', 'an'), ('an', 'NLPer')]\n",
      "文字bi-gram: [('I', ' '), (' ', 'a'), ('a', 'm'), ('m', ' '), (' ', 'a'), ('a', 'n'), ('n', ' '), (' ', 'N'), ('N', 'L'), ('L', 'P'), ('P', 'e'), ('e', 'r')]\n"
     ]
    }
   ],
   "source": [
    "#答え①\n",
    "def n_gram(n, lst):\n",
    "  # ex.\n",
    "  # [str[i:] for i in range(2)] -> ['I am an NLPer', ' am an NLPer']\n",
    "  # zip(*[str[i:] for i in range(2)]) -> zip('I am an NLPer', ' am an NLPer')\n",
    "  return list(zip(*[lst[i:] for i in range(n)]))\n",
    "\n",
    "str = 'I am an NLPer'\n",
    "words_bi_gram = n_gram(2, str.split())\n",
    "chars_bi_gram = n_gram(2, str)\n",
    "\n",
    "print('単語bi-gram:', words_bi_gram)\n",
    "print('文字bi-gram:', chars_bi_gram)"
   ]
  },
  {
   "cell_type": "markdown",
   "id": "1f1857a8",
   "metadata": {},
   "source": [
    "`*`でリストを展開し、それぞれの要素列に分ける  \n",
    "`zip関数`はリストの要素を取得するが多い分の要素が無視される"
   ]
  },
  {
   "cell_type": "code",
   "execution_count": 3,
   "id": "19289141",
   "metadata": {},
   "outputs": [
    {
     "name": "stdout",
     "output_type": "stream",
     "text": [
      "['I', ' ', 'a', 'm', ' ', 'a', 'n', ' ', 'N', 'L', 'P', 'e', 'r']\n",
      "[['I'], ['am'], ['an'], ['NLPer']]\n",
      "['I ', ' a', 'am', 'm ', ' a', 'an', 'n ', ' N', 'NL', 'LP', 'Pe', 'er']\n",
      "[['I', 'am'], ['am', 'an'], ['an', 'NLPer']]\n",
      "['I a', ' am', 'am ', 'm a', ' an', 'an ', 'n N', ' NL', 'NLP', 'LPe', 'Per']\n",
      "[['I', 'am', 'an'], ['am', 'an', 'NLPer']]\n"
     ]
    }
   ],
   "source": [
    "#答え②\n",
    "def n_gram(target, n):\n",
    "    return [target[idx:idx + n] for idx in range(len(target) - n + 1)]\n",
    "\n",
    "text = 'I am an NLPer'\n",
    "for i in range(1, 4):\n",
    "    print(n_gram(text, i))#空白を含めた文字\n",
    "    print(n_gram(text.split(' '), i))#単語"
   ]
  },
  {
   "cell_type": "code",
   "execution_count": 4,
   "id": "7c9abc9a",
   "metadata": {},
   "outputs": [
    {
     "name": "stdout",
     "output_type": "stream",
     "text": [
      "['I', ' ', 'a', 'm', ' ', 'a', 'n', ' ', 'N', 'L', 'P', 'e', 'r']\n",
      "[['I'], ['am'], ['an'], ['NLPer']]\n",
      "['I ', ' a', 'am', 'm ', ' a', 'an', 'n ', ' N', 'NL', 'LP', 'Pe', 'er']\n",
      "[['I', 'am'], ['am', 'an'], ['an', 'NLPer']]\n",
      "['I a', ' am', 'am ', 'm a', ' an', 'an ', 'n N', ' NL', 'NLP', 'LPe', 'Per']\n",
      "[['I', 'am', 'an'], ['am', 'an', 'NLPer']]\n"
     ]
    }
   ],
   "source": [
    "#答え③\n",
    "def n_gram(target, n):\n",
    "    return [target[idx:idx + n] for idx in range(len(target) - n + 1)]\n",
    "\n",
    "\n",
    "text = 'I am an NLPer'\n",
    "for i in range(1, 4):\n",
    "    print(n_gram(text, i))\n",
    "    print(n_gram(text.split(' '), i))"
   ]
  },
  {
   "cell_type": "code",
   "execution_count": 5,
   "id": "cb3a8d4b",
   "metadata": {},
   "outputs": [
    {
     "data": {
      "text/plain": [
       "[(2, 'b'), (3, 'a'), (1, 'c')]"
      ]
     },
     "execution_count": 5,
     "metadata": {},
     "output_type": "execute_result"
    }
   ],
   "source": [
    " #list(zip())の例\n",
    "    s1 = [2, 3, 1]\n",
    " s2 = ['b', 'a', 'c']\n",
    " list(zip(s1, s2))"
   ]
  },
  {
   "cell_type": "code",
   "execution_count": 7,
   "id": "2c50a7ab",
   "metadata": {},
   "outputs": [
    {
     "data": {
      "text/plain": [
       "[[('I', ' ', 'a', 'm', ' ', 'a', 'n', ' ', 'N', 'L', 'P', 'e', 'r')],\n",
       " [(' ', 'a', 'm', ' ', 'a', 'n', ' ', 'N', 'L', 'P', 'e', 'r')]]"
      ]
     },
     "execution_count": 7,
     "metadata": {},
     "output_type": "execute_result"
    }
   ],
   "source": [
    "#惜しいとこまでいったやつ\n",
    "str = 'I am an NLPer'\n",
    "li = []\n",
    "def ngramtest(n):\n",
    "    for i in range(n):\n",
    "         li.append(list(zip(*str[i:])))\n",
    "    return li\n",
    "ngramtest(2)"
   ]
  },
  {
   "cell_type": "code",
   "execution_count": 5,
   "id": "97b40327",
   "metadata": {},
   "outputs": [
    {
     "data": {
      "text/plain": [
       "[('I', ' '),\n",
       " (' ', 'a'),\n",
       " ('a', 'm'),\n",
       " ('m', ' '),\n",
       " (' ', 'a'),\n",
       " ('a', 'n'),\n",
       " ('n', ' '),\n",
       " (' ', 'N'),\n",
       " ('N', 'L'),\n",
       " ('L', 'P'),\n",
       " ('P', 'e'),\n",
       " ('e', 'r')]"
      ]
     },
     "execution_count": 5,
     "metadata": {},
     "output_type": "execute_result"
    }
   ],
   "source": [
    "#答え①の内包表現を解いたもの\n",
    "str = 'I am an NLPer'\n",
    "li = []\n",
    "def ngram(n):\n",
    "    for i in range(n):\n",
    "         li.append(str[i:])\n",
    "    return list(zip(*li))\n",
    "\n",
    "ngram(2)"
   ]
  },
  {
   "cell_type": "code",
   "execution_count": 1,
   "id": "85e2f6d3",
   "metadata": {},
   "outputs": [
    {
     "data": {
      "text/plain": [
       "[('I', ' ', 'a'),\n",
       " (' ', 'a', 'm'),\n",
       " ('a', 'm', ' '),\n",
       " ('m', ' ', 'a'),\n",
       " (' ', 'a', 'n'),\n",
       " ('a', 'n', ' '),\n",
       " ('n', ' ', 'N'),\n",
       " (' ', 'N', 'L'),\n",
       " ('N', 'L', 'P'),\n",
       " ('L', 'P', 'e'),\n",
       " ('P', 'e', 'r')]"
      ]
     },
     "execution_count": 1,
     "metadata": {},
     "output_type": "execute_result"
    }
   ],
   "source": [
    "#別解\n",
    "str = 'I am an NLPer'\n",
    "\n",
    "def n___gram(n):\n",
    "    l = []\n",
    "    for i in range(len(str)-n+1): #右の列\n",
    "        t = []\n",
    "        for j in range(n):\n",
    "            t.append(str[i+j])\n",
    "        l.append(tuple(t))\n",
    "    return(l)\n",
    "\n",
    "n___gram(3)"
   ]
  },
  {
   "cell_type": "code",
   "execution_count": null,
   "id": "023f58e8",
   "metadata": {},
   "outputs": [],
   "source": []
  }
 ],
 "metadata": {
  "kernelspec": {
   "display_name": "Python 3 (ipykernel)",
   "language": "python",
   "name": "python3"
  },
  "language_info": {
   "codemirror_mode": {
    "name": "ipython",
    "version": 3
   },
   "file_extension": ".py",
   "mimetype": "text/x-python",
   "name": "python",
   "nbconvert_exporter": "python",
   "pygments_lexer": "ipython3",
   "version": "3.9.13"
  }
 },
 "nbformat": 4,
 "nbformat_minor": 5
}
